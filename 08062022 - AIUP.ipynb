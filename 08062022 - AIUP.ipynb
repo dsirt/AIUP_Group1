{
 "cells": [
  {
   "cell_type": "code",
   "execution_count": 1,
   "id": "0cf8f34e",
   "metadata": {},
   "outputs": [],
   "source": [
    "import neurolab as nl\n",
    "import matplotlib.pyplot as plt"
   ]
  },
  {
   "cell_type": "code",
   "execution_count": 2,
   "id": "08b6bb91",
   "metadata": {},
   "outputs": [],
   "source": [
    "#Perceptron tabanlı sınıflandırıcı"
   ]
  },
  {
   "cell_type": "code",
   "execution_count": 3,
   "id": "676507c7",
   "metadata": {},
   "outputs": [],
   "source": [
    "myinput = [[0, 0], [0, 1], [1, 0], [1, 1]]\n",
    "myoutput = [[0], [0], [0], [1]]"
   ]
  },
  {
   "cell_type": "code",
   "execution_count": 4,
   "id": "062fc03b",
   "metadata": {},
   "outputs": [],
   "source": [
    "net = nl.net.newp([[0, 1], [0, 1]], 1)"
   ]
  },
  {
   "cell_type": "code",
   "execution_count": 5,
   "id": "ab9a4e90",
   "metadata": {},
   "outputs": [
    {
     "name": "stdout",
     "output_type": "stream",
     "text": [
      "The goal of learning is reached\n"
     ]
    }
   ],
   "source": [
    "error_progress = net.train(myinput, myoutput, epochs = 100, show = 10, lr = 0.1)"
   ]
  },
  {
   "cell_type": "code",
   "execution_count": 6,
   "id": "d3cc61a3",
   "metadata": {},
   "outputs": [
    {
     "data": {
      "image/png": "[encoded data removed]",
      "text/plain": [
       "<Figure size 432x288 with 1 Axes>"
      ]
     },
     "metadata": {
      "needs_background": "light"
     },
     "output_type": "display_data"
    }
   ],
   "source": [
    "plt.figure()\n",
    "plt.plot(error_progress)\n",
    "plt.xlabel('İterasyon sayısı')\n",
    "plt.ylabel('Eğitim hatası')\n",
    "plt.grid()\n",
    "plt.show()"
   ]
  },
  {
   "cell_type": "code",
   "execution_count": 7,
   "id": "8084a182",
   "metadata": {},
   "outputs": [],
   "source": [
    "#Tek katmanlı sinir ağları\n",
    "import numpy as np"
   ]
  },
  {
   "cell_type": "code",
   "execution_count": 8,
   "id": "4de2825a",
   "metadata": {},
   "outputs": [
    {
     "data": {
      "text/plain": [
       "array([[2. , 4. , 0. , 0. ],\n",
       "       [1.5, 3.9, 0. , 0. ],\n",
       "       [2.2, 4.1, 0. , 0. ],\n",
       "       [1.9, 4.7, 0. , 0. ],\n",
       "       [5.4, 2.2, 0. , 1. ],\n",
       "       [4.3, 7.1, 0. , 1. ],\n",
       "       [5.8, 4.9, 0. , 1. ],\n",
       "       [6.5, 3.2, 0. , 1. ],\n",
       "       [3. , 2. , 1. , 0. ],\n",
       "       [2.5, 0.5, 1. , 0. ],\n",
       "       [3.5, 2.1, 1. , 0. ],\n",
       "       [2.9, 0.3, 1. , 0. ],\n",
       "       [6.5, 8.3, 1. , 1. ],\n",
       "       [3.2, 6.2, 1. , 1. ],\n",
       "       [4.9, 7.8, 1. , 1. ],\n",
       "       [2.1, 4.8, 1. , 1. ]])"
      ]
     },
     "execution_count": 8,
     "metadata": {},
     "output_type": "execute_result"
    }
   ],
   "source": [
    "input_data = np.loadtxt(\"data/neural_simple.txt\", delimiter = ',')\n",
    "input_data"
   ]
  },
  {
   "cell_type": "code",
   "execution_count": 9,
   "id": "89348ad1",
   "metadata": {},
   "outputs": [],
   "source": [
    "data = input_data[:, 0:2]\n",
    "labels = input_data[:, 2:]"
   ]
  },
  {
   "cell_type": "code",
   "execution_count": 10,
   "id": "491b4d7f",
   "metadata": {},
   "outputs": [
    {
     "data": {
      "text/plain": [
       "Text(0.5, 1.0, 'Input data')"
      ]
     },
     "execution_count": 10,
     "metadata": {},
     "output_type": "execute_result"
    },
    {
     "data": {
      "image/png": "[encoded data removed]",
      "text/plain": [
       "<Figure size 432x288 with 1 Axes>"
      ]
     },
     "metadata": {
      "needs_background": "light"
     },
     "output_type": "display_data"
    }
   ],
   "source": [
    "plt.figure()\n",
    "plt.scatter(data[:, 0], data[:, 1])\n",
    "plt.xlabel('Boyut 1')\n",
    "plt.ylabel('Boyut 2')\n",
    "plt.title('Input data')"
   ]
  },
  {
   "cell_type": "code",
   "execution_count": 11,
   "id": "b97589b4",
   "metadata": {},
   "outputs": [],
   "source": [
    "dim1_min, dim1_max = data[:, 0].min(), data[:, 0].max()\n",
    "dim2_min, dim2_max = data[:, 1].min(), data[:, 1].max()"
   ]
  },
  {
   "cell_type": "code",
   "execution_count": 12,
   "id": "2583a8ce",
   "metadata": {},
   "outputs": [],
   "source": [
    "nn_output_layer = labels.shape[1]"
   ]
  },
  {
   "cell_type": "code",
   "execution_count": 13,
   "id": "13867389",
   "metadata": {},
   "outputs": [
    {
     "data": {
      "text/plain": [
       "2"
      ]
     },
     "execution_count": 13,
     "metadata": {},
     "output_type": "execute_result"
    }
   ],
   "source": [
    "nn_output_layer"
   ]
  },
  {
   "cell_type": "code",
   "execution_count": 14,
   "id": "9eb1734e",
   "metadata": {},
   "outputs": [],
   "source": [
    "dim1 = [dim1_min, dim1_max]\n",
    "dim2 = [dim2_min, dim2_max]\n",
    "neural_net = nl.net.newp([dim1, dim2], nn_output_layer)"
   ]
  },
  {
   "cell_type": "code",
   "execution_count": 15,
   "id": "d4e3817e",
   "metadata": {},
   "outputs": [
    {
     "name": "stdout",
     "output_type": "stream",
     "text": [
      "Epoch: 20; Error: 4.0;\n",
      "Epoch: 40; Error: 4.0;\n",
      "Epoch: 60; Error: 4.0;\n",
      "Epoch: 80; Error: 4.0;\n",
      "Epoch: 100; Error: 4.0;\n",
      "Epoch: 120; Error: 4.0;\n",
      "Epoch: 140; Error: 4.0;\n",
      "Epoch: 160; Error: 4.0;\n",
      "Epoch: 180; Error: 4.0;\n",
      "Epoch: 200; Error: 4.0;\n",
      "The maximum number of train epochs is reached\n"
     ]
    }
   ],
   "source": [
    "error = neural_net.train(data, labels, epochs = 200, show = 20, lr = 0.01)"
   ]
  },
  {
   "cell_type": "code",
   "execution_count": 16,
   "id": "dfbfb34a",
   "metadata": {},
   "outputs": [
    {
     "data": {
      "image/png": "[encoded data removed]",
      "text/plain": [
       "<Figure size 432x288 with 1 Axes>"
      ]
     },
     "metadata": {
      "needs_background": "light"
     },
     "output_type": "display_data"
    }
   ],
   "source": [
    "plt.figure()\n",
    "plt.plot(error)\n",
    "plt.xlabel('İterasyon sayısı')\n",
    "plt.ylabel('Eğitim hatası')\n",
    "plt.grid()\n",
    "plt.show()"
   ]
  },
  {
   "cell_type": "code",
   "execution_count": 17,
   "id": "784b7b70",
   "metadata": {},
   "outputs": [
    {
     "name": "stdout",
     "output_type": "stream",
     "text": [
      "\n",
      " Test sonuçları\n",
      "[1.5, 3.2] --> [1. 0.]\n",
      "[3.6, 1.7] --> [1. 0.]\n",
      "[3.6, 5.7] --> [1. 1.]\n",
      "[1.6, 3.9] --> [1. 0.]\n"
     ]
    }
   ],
   "source": [
    "print('\\n Test sonuçları')\n",
    "\n",
    "data_test = [[1.5, 3.2], [3.6, 1.7], [3.6, 5.7], [1.6, 3.9]]\n",
    "for item in data_test:\n",
    "    print(item, '-->', neural_net.sim([item])[0])"
   ]
  },
  {
   "cell_type": "code",
   "execution_count": 18,
   "id": "1355e72b",
   "metadata": {},
   "outputs": [
    {
     "data": {
      "text/plain": [
       "'\\ny = 2x^2 + 8\\n'"
      ]
     },
     "execution_count": 18,
     "metadata": {},
     "output_type": "execute_result"
    }
   ],
   "source": [
    "#Çok katmanlı (multilayer) sinir ağı\n",
    "\"\"\"\n",
    "y = 2x^2 + 8\n",
    "\"\"\""
   ]
  },
  {
   "cell_type": "code",
   "execution_count": 19,
   "id": "4023a178",
   "metadata": {},
   "outputs": [],
   "source": [
    "min_val = -30\n",
    "max_val = 30\n",
    "num_points = 160\n",
    "x = np.linspace(min_val, max_val, num_points)\n",
    "y = 2 * np.square(x) + 8\n",
    "y /= np.linalg.norm(y)"
   ]
  },
  {
   "cell_type": "code",
   "execution_count": 20,
   "id": "32d17172",
   "metadata": {},
   "outputs": [],
   "source": [
    "data = x.reshape(num_points, 1)\n",
    "labels = y.reshape(num_points, 1)"
   ]
  },
  {
   "cell_type": "code",
   "execution_count": 21,
   "id": "8aecaf8a",
   "metadata": {},
   "outputs": [
    {
     "data": {
      "text/plain": [
       "Text(0.5, 1.0, 'Input data')"
      ]
     },
     "execution_count": 21,
     "metadata": {},
     "output_type": "execute_result"
    },
    {
     "data": {
      "image/png": "[encoded data removed]",
      "text/plain": [
       "<Figure size 432x288 with 1 Axes>"
      ]
     },
     "metadata": {
      "needs_background": "light"
     },
     "output_type": "display_data"
    }
   ],
   "source": [
    "plt.figure()\n",
    "plt.scatter(data, labels)\n",
    "plt.xlabel('Boyut 1')\n",
    "plt.ylabel('Boyut 2')\n",
    "plt.title('Input data')"
   ]
  },
  {
   "cell_type": "code",
   "execution_count": 22,
   "id": "a965e887",
   "metadata": {},
   "outputs": [],
   "source": [
    "neural_net = nl.net.newff([[min_val, max_val]], [10, 6, 1])"
   ]
  },
  {
   "cell_type": "code",
   "execution_count": 23,
   "id": "11f69b0e",
   "metadata": {},
   "outputs": [],
   "source": [
    "neural_net.trainf = nl.train.train_gd"
   ]
  },
  {
   "cell_type": "code",
   "execution_count": 24,
   "id": "edd16d49",
   "metadata": {},
   "outputs": [
    {
     "name": "stdout",
     "output_type": "stream",
     "text": [
      "Epoch: 100; Error: 0.08615323083012019;\n",
      "Epoch: 200; Error: 0.03807901919687519;\n",
      "Epoch: 300; Error: 0.09222861134495303;\n",
      "Epoch: 400; Error: 0.04104597478605169;\n",
      "Epoch: 500; Error: 0.07637510133734314;\n",
      "Epoch: 600; Error: 0.024178887047526597;\n",
      "Epoch: 700; Error: 0.030857451457366326;\n",
      "Epoch: 800; Error: 0.02041207418061951;\n",
      "Epoch: 900; Error: 0.018077918891957076;\n",
      "Epoch: 1000; Error: 0.012908608521719118;\n",
      "The maximum number of train epochs is reached\n"
     ]
    }
   ],
   "source": [
    "myerror = neural_net.train(data, labels, epochs = 1000, show = 100, goal = 0.01)"
   ]
  },
  {
   "cell_type": "code",
   "execution_count": 26,
   "id": "45e87387",
   "metadata": {},
   "outputs": [
    {
     "data": {
      "image/png": "[encoded data removed]",
      "text/plain": [
       "<Figure size 432x288 with 1 Axes>"
      ]
     },
     "metadata": {
      "needs_background": "light"
     },
     "output_type": "display_data"
    }
   ],
   "source": [
    "plt.figure()\n",
    "plt.plot(myerror)\n",
    "plt.xlabel('İterasyon sayısı')\n",
    "plt.ylabel('Eğitim hatası')\n",
    "plt.show()"
   ]
  },
  {
   "cell_type": "code",
   "execution_count": 27,
   "id": "b5d489ff",
   "metadata": {},
   "outputs": [],
   "source": [
    "output = neural_net.sim(data)\n",
    "y_pred = output.reshape(num_points)"
   ]
  },
  {
   "cell_type": "code",
   "execution_count": 28,
   "id": "2f0b686d",
   "metadata": {},
   "outputs": [
    {
     "data": {
      "image/png": "[encoded data removed]",
      "text/plain": [
       "<Figure size 432x288 with 1 Axes>"
      ]
     },
     "metadata": {
      "needs_background": "light"
     },
     "output_type": "display_data"
    }
   ],
   "source": [
    "x_dense = np.linspace(min_val, max_val, num_points * 2)\n",
    "y_dense_pred = neural_net.sim(x_dense.reshape(x_dense.size, 1)).reshape(x_dense.size)\n",
    "plt.figure()\n",
    "plt.plot(x_dense, y_dense_pred, '-', x, y, '.', x, y_pred, 'p')\n",
    "plt.title('Mevcut vs Tahmin Edilen')\n",
    "plt.show()"
   ]
  },
  {
   "cell_type": "code",
   "execution_count": 1,
   "id": "74f2b481",
   "metadata": {},
   "outputs": [],
   "source": [
    "import tensorflow as tf"
   ]
  },
  {
   "cell_type": "code",
   "execution_count": 2,
   "id": "d7dd0f6a",
   "metadata": {},
   "outputs": [
    {
     "name": "stdout",
     "output_type": "stream",
     "text": [
      "b'Hello, Tensorflow'\n"
     ]
    }
   ],
   "source": [
    "hello = tf.constant('Hello, Tensorflow')\n",
    "sess = tf.Session()\n",
    "print(sess.run(hello))"
   ]
  },
  {
   "cell_type": "code",
   "execution_count": 4,
   "id": "a845f9c0",
   "metadata": {},
   "outputs": [],
   "source": [
    "import numpy as np"
   ]
  },
  {
   "cell_type": "code",
   "execution_count": 5,
   "id": "9ccbd48c",
   "metadata": {},
   "outputs": [
    {
     "name": "stdout",
     "output_type": "stream",
     "text": [
      "[[6 6 6]\n",
      " [6 6 6]\n",
      " [6 6 6]]\n",
      "[[3 3 3]\n",
      " [3 3 3]\n",
      " [3 3 3]]\n",
      "55.999992\n"
     ]
    }
   ],
   "source": [
    "matrix1 = np.array([(2,2,2), (2,2,2), (2,2,2)], dtype = 'int32')\n",
    "matrix2 = np.array([(1,1,1), (1,1,1), (1,1,1)], dtype = 'int32')\n",
    "\n",
    "matrix1 = tf.constant(matrix1)\n",
    "matrix2 = tf.constant(matrix2)\n",
    "matrix_product = tf.matmul(matrix1, matrix2)\n",
    "matrix_sum = tf.add(matrix1, matrix2)\n",
    "\n",
    "matrix3 = np.array([(2,7,2), (1,4,2), (9,0,2)], dtype = 'float32')\n",
    "matrix_det = tf.matrix_determinant(matrix3)\n",
    "\n",
    "with tf.Session() as sess:\n",
    "    result1 = sess.run(matrix_product)\n",
    "    result2 = sess.run(matrix_sum)\n",
    "    result3 = sess.run(matrix_det)\n",
    "    \n",
    "print(result1)\n",
    "print(result2)\n",
    "print(result3)"
   ]
  },
  {
   "cell_type": "code",
   "execution_count": 6,
   "id": "fb46be24",
   "metadata": {},
   "outputs": [],
   "source": [
    "#Single Layer Perceptron (Tensorflow versiyonu)"
   ]
  },
  {
   "cell_type": "code",
   "execution_count": 8,
   "id": "2e52bd21",
   "metadata": {},
   "outputs": [],
   "source": [
    "import warnings\n",
    "warnings.filterwarnings('ignore')"
   ]
  },
  {
   "cell_type": "code",
   "execution_count": 9,
   "id": "356ccc93",
   "metadata": {},
   "outputs": [
    {
     "name": "stdout",
     "output_type": "stream",
     "text": [
      "Extracting MNIST_data\\train-images-idx3-ubyte.gz\n",
      "Extracting MNIST_data\\train-labels-idx1-ubyte.gz\n",
      "Extracting MNIST_data\\t10k-images-idx3-ubyte.gz\n",
      "Extracting MNIST_data\\t10k-labels-idx1-ubyte.gz\n"
     ]
    }
   ],
   "source": [
    "from tensorflow.examples.tutorials.mnist import input_data\n",
    "mnist = input_data.read_data_sets(\"MNIST_data\", one_hot = True)"
   ]
  },
  {
   "cell_type": "code",
   "execution_count": null,
   "id": "7206073d",
   "metadata": {},
   "outputs": [],
   "source": []
  }
 ],
 "metadata": {
  "kernelspec": {
   "display_name": "Python 3",
   "language": "python",
   "name": "python3"
  },
  "language_info": {
   "codemirror_mode": {
    "name": "ipython",
    "version": 3
   },
   "file_extension": ".py",
   "mimetype": "text/x-python",
   "name": "python",
   "nbconvert_exporter": "python",
   "pygments_lexer": "ipython3",
   "version": "3.6.13"
  }
 },
 "nbformat": 4,
 "nbformat_minor": 5
}
